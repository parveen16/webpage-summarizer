{
 "cells": [
  {
   "cell_type": "code",
   "id": "initial_id",
   "metadata": {
    "collapsed": true,
    "ExecuteTime": {
     "end_time": "2025-08-18T07:26:14.838208Z",
     "start_time": "2025-08-18T07:26:14.834448Z"
    }
   },
   "source": [
    "import requests\n",
    "from bs4 import BeautifulSoup"
   ],
   "outputs": [],
   "execution_count": 7
  },
  {
   "metadata": {
    "ExecuteTime": {
     "end_time": "2025-08-18T07:26:17.600622Z",
     "start_time": "2025-08-18T07:26:17.597694Z"
    }
   },
   "cell_type": "code",
   "source": "OLLAMA_API = \"http://localhost:11434/api/chat\"",
   "id": "fc4608bd2c9980a",
   "outputs": [],
   "execution_count": 8
  },
  {
   "metadata": {
    "ExecuteTime": {
     "end_time": "2025-08-18T07:45:21.476796Z",
     "start_time": "2025-08-18T07:45:21.473392Z"
    }
   },
   "cell_type": "code",
   "source": [
    "payload = {\n",
    "    \"model\": \"llama3.2\",\n",
    "    \"messages\": [\n",
    "        {\"role\": \"system\", \"content\": \"You are a helpful assistant\"},\n",
    "        {\"role\": \"user\", \"content\": \"What is artificial intelligence?\"}\n",
    "    ],\n",
    "    \"stream\":False\n",
    "}"
   ],
   "id": "3be3e31ad1dcf4c",
   "outputs": [],
   "execution_count": 12
  },
  {
   "metadata": {
    "ExecuteTime": {
     "end_time": "2025-08-18T07:45:25.411971Z",
     "start_time": "2025-08-18T07:45:24.360814Z"
    }
   },
   "cell_type": "code",
   "source": "!ollama pull llama3.2",
   "id": "3418c2ebb0cfe741",
   "outputs": [
    {
     "name": "stdout",
     "output_type": "stream",
     "text": [
      "\u001B[?2026h\u001B[?25l\u001B[1Gpulling manifest ⠋ \u001B[K\u001B[?25h\u001B[?2026l\u001B[?2026h\u001B[?25l\u001B[1Gpulling manifest ⠙ \u001B[K\u001B[?25h\u001B[?2026l\u001B[?2026h\u001B[?25l\u001B[1Gpulling manifest ⠹ \u001B[K\u001B[?25h\u001B[?2026l\u001B[?2026h\u001B[?25l\u001B[1Gpulling manifest ⠸ \u001B[K\u001B[?25h\u001B[?2026l\u001B[?2026h\u001B[?25l\u001B[1Gpulling manifest ⠼ \u001B[K\u001B[?25h\u001B[?2026l\u001B[?2026h\u001B[?25l\u001B[1Gpulling manifest ⠴ \u001B[K\u001B[?25h\u001B[?2026l\u001B[?2026h\u001B[?25l\u001B[1Gpulling manifest ⠦ \u001B[K\u001B[?25h\u001B[?2026l\u001B[?2026h\u001B[?25l\u001B[1Gpulling manifest ⠧ \u001B[K\u001B[?25h\u001B[?2026l\u001B[?2026h\u001B[?25l\u001B[1Gpulling manifest \u001B[K\r\n",
      "pulling dde5aa3fc5ff: 100% ▕██████████████████▏ 2.0 GB                         \u001B[K\r\n",
      "pulling 966de95ca8a6: 100% ▕██████████████████▏ 1.4 KB                         \u001B[K\r\n",
      "pulling fcc5a6bec9da: 100% ▕██████████████████▏ 7.7 KB                         \u001B[K\r\n",
      "pulling a70ff7e570d9: 100% ▕██████████████████▏ 6.0 KB                         \u001B[K\r\n",
      "pulling 56bb8bd477a5: 100% ▕██████████████████▏   96 B                         \u001B[K\r\n",
      "pulling 34bb5ab01051: 100% ▕██████████████████▏  561 B                         \u001B[K\r\n",
      "verifying sha256 digest \u001B[K\r\n",
      "writing manifest \u001B[K\r\n",
      "success \u001B[K\u001B[?25h\u001B[?2026l\r\n"
     ]
    }
   ],
   "execution_count": 13
  },
  {
   "metadata": {
    "ExecuteTime": {
     "end_time": "2025-08-18T07:45:39.033502Z",
     "start_time": "2025-08-18T07:45:27.928625Z"
    }
   },
   "cell_type": "code",
   "source": [
    "response = requests.post(OLLAMA_API, json=payload)\n",
    "print(response.json())"
   ],
   "id": "3068d1262ebf22a2",
   "outputs": [
    {
     "name": "stdout",
     "output_type": "stream",
     "text": [
      "{'model': 'llama3.2', 'created_at': '2025-08-18T07:45:39.025321Z', 'message': {'role': 'assistant', 'content': 'Artificial intelligence (AI) refers to the development of computer systems that can perform tasks that typically require human intelligence, such as:\\n\\n1. Learning: AI systems can learn from data and improve their performance over time.\\n2. Problem-solving: AI systems can solve complex problems by analyzing data and making decisions based on that analysis.\\n3. Reasoning: AI systems can draw conclusions and make inferences from the data they have been trained on.\\n4. Perception: AI systems can interpret and understand data from sensors, such as images and speech.\\n\\nAI systems can be categorized into two main types:\\n\\n1. **Narrow or Weak AI**: These systems are designed to perform a specific task, such as facial recognition, language translation, or playing chess.\\n2. **General or Strong AI**: These systems have the ability to learn and apply knowledge across a wide range of tasks, similar to human intelligence.\\n\\nSome examples of AI applications include:\\n\\n* Virtual assistants (e.g., Siri, Alexa)\\n* Image recognition software\\n* Self-driving cars\\n* Personalized recommendations on streaming services\\n* Chatbots\\n\\nAI has many benefits, including:\\n\\n* Increased efficiency and productivity\\n* Improved accuracy and precision\\n* Enhanced decision-making capabilities\\n* Ability to analyze large amounts of data quickly and accurately\\n\\nHowever, AI also raises concerns around:\\n\\n* Job displacement: as AI systems take over tasks that were previously performed by humans.\\n* Bias: AI systems can perpetuate biases present in the data they are trained on.\\n* Security: AI systems can be vulnerable to cyber attacks and data breaches.\\n\\nOverall, AI is a rapidly evolving field with vast potential for innovation and transformation across various industries.'}, 'done_reason': 'stop', 'done': True, 'total_duration': 11092241333, 'load_duration': 835824666, 'prompt_eval_count': 35, 'prompt_eval_duration': 922736917, 'eval_count': 334, 'eval_duration': 9332737583}\n"
     ]
    }
   ],
   "execution_count": 14
  }
 ],
 "metadata": {
  "kernelspec": {
   "display_name": "Python 3",
   "language": "python",
   "name": "python3"
  },
  "language_info": {
   "codemirror_mode": {
    "name": "ipython",
    "version": 2
   },
   "file_extension": ".py",
   "mimetype": "text/x-python",
   "name": "python",
   "nbconvert_exporter": "python",
   "pygments_lexer": "ipython2",
   "version": "2.7.6"
  }
 },
 "nbformat": 4,
 "nbformat_minor": 5
}
