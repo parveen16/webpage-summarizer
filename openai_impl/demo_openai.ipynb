{
 "cells": [
  {
   "cell_type": "code",
   "id": "5f3d742e-856c-450a-82d2-5784648c78b6",
   "metadata": {},
   "source": [
    "import os\n",
    "from symtable import Class\n",
    "\n",
    "import requests\n",
    "from dotenv import load_dotenv\n",
    "from bs4 import BeautifulSoup\n",
    "from IPython.display import Markdown, display\n",
    "from openai import OpenAI"
   ],
   "outputs": [],
   "execution_count": null
  },
  {
   "cell_type": "code",
   "id": "70790930-d496-43fa-b042-b891ff85bd13",
   "metadata": {},
   "source": [
    "print(\"Hello, This is webpage summarizer demo\")"
   ],
   "outputs": [],
   "execution_count": null
  },
  {
   "cell_type": "code",
   "id": "0f4aeac4-3b50-45dc-b27c-9a24050f2fb5",
   "metadata": {},
   "source": "load_dotenv(override=True)",
   "outputs": [],
   "execution_count": null
  },
  {
   "cell_type": "code",
   "id": "62285137-2c97-478b-bfcc-61806a9920ed",
   "metadata": {},
   "source": [
    "api_key= os.getenv('OPENAI_API_KEY')\n",
    "\n",
    "if not api_key:\n",
    "    print(\"No API key was found - please head over to the troubleshooting notebook in this folder to identify & fix!\")\n",
    "elif not api_key.startswith(\"sk-proj-\"):\n",
    "    print(\"An API key was found, but it doesn't start sk-proj-; please check you're using the right key - see troubleshooting notebook\")\n",
    "elif api_key.strip() != api_key:\n",
    "    print(\"An API key was found, but it looks like it might have space or tab characters at the start or end - please remove them - see troubleshooting notebook\")\n",
    "else:\n",
    "    print(\"API key found and looks good so far!\")"
   ],
   "outputs": [],
   "execution_count": null
  },
  {
   "cell_type": "code",
   "id": "610ba7c3-b6f3-4c8b-86ec-10a7786687ab",
   "metadata": {},
   "source": "openai = OpenAI()",
   "outputs": [],
   "execution_count": null
  },
  {
   "metadata": {},
   "cell_type": "code",
   "source": [
    "# A class to represent a Webpage\n",
    "# If you're not familiar with Classes, check out the \"Intermediate Python\" notebook\n",
    "\n",
    "# Some websites need you to use proper headers when fetching them:\n",
    "headers = {\n",
    " \"User-Agent\": \"Mozilla/5.0 (Windows NT 10.0; Win64; x64) AppleWebKit/537.36 (KHTML, like Gecko) Chrome/117.0.0.0 Safari/537.36\"\n",
    "}\n",
    "\n",
    "#This class downloads a webpage, removes unnecessary elements, and extracts clean, readable text along with the title\n",
    "class Website:\n",
    " def __init__(self,url):\n",
    "#1.Fetch Webpage\n",
    "#Uses the requests library to download the webpage content.\n",
    "# headers=headers is optional but often used to mimic a real browser (so some websites don’t block the request).\n",
    "\n",
    "     self.url = url\n",
    "     response = requests.get(url, headers=headers)\n",
    "\n",
    "#2.Parse HTML with BeautifulSoup\n",
    "     soup = BeautifulSoup(requests.get(self.url).content, \"html.parser\")\n",
    "     self.title = soup.title.string if soup.title else \"No title found\"\n",
    "\n",
    "#3.Remove Irrelevant Elements and Extract clean text\n",
    "     for irrelevant_tag in soup.body([\"script\", \"style\", \"img\", \"input\"]):\n",
    "         irrelevant_tag.decompose() #removes irrelevant tags from the HTML tree completely, leaving only visible, readable text.\n",
    "     self.text = soup.body.get_text(separator=\"\\n\", strip=True) #adds newlines between different blocks of text and removes leading/trailing spaces from each line\n"
   ],
   "id": "23f098da8a15d41a",
   "outputs": [],
   "execution_count": null
  },
  {
   "metadata": {},
   "cell_type": "code",
   "source": [
    "system_prompt = \"You are an assistant that analyzes the contents of a website \\\n",
    "and provides a short summary, ignoring text that might be navigation related. \\\n",
    "Respond in markdown.\"\n",
    "\n",
    "def user_prompt_for(website):\n",
    "    user_prompt = f\"You are looking at a website titled {website.title}\"\n",
    "    user_prompt += \"\\nThe contents of this website is as follows; \\\n",
    "please provide a short summary of this website in markdown. \\\n",
    "If it includes news or announcements, then summarize these too.\\n\\n\"\n",
    "    user_prompt += website.text\n",
    "    return user_prompt\n"
   ],
   "id": "b72121d50abfbe8f",
   "outputs": [],
   "execution_count": null
  },
  {
   "metadata": {},
   "cell_type": "code",
   "source": [
    "def messages_for(website):\n",
    "    return [\n",
    "        {\"role\": \"system\", \"content\": system_prompt},\n",
    "        {\"role\": \"user\", \"content\": user_prompt_for(website)}\n",
    "    ]"
   ],
   "id": "9f38766318d0fa5c",
   "outputs": [],
   "execution_count": null
  },
  {
   "metadata": {},
   "cell_type": "code",
   "source": [
    "def summarize(url):\n",
    "    website = Website(url)\n",
    "    response = openai.chat.completions.create(\n",
    "        model = \"gpt-4o-mini\",\n",
    "        messages = messages_for(website)\n",
    "    )\n",
    "    return response.choices[0].message.content"
   ],
   "id": "ad68d475f9b6915f",
   "outputs": [],
   "execution_count": null
  },
  {
   "metadata": {},
   "cell_type": "code",
   "source": "summarize(\"https://cnn.com\")",
   "id": "5bf8a7153a3f07ec",
   "outputs": [],
   "execution_count": null
  }
 ],
 "metadata": {
  "kernelspec": {
   "display_name": "Python 3 (ipykernel)",
   "language": "python",
   "name": "python3"
  },
  "language_info": {
   "codemirror_mode": {
    "name": "ipython",
    "version": 3
   },
   "file_extension": ".py",
   "mimetype": "text/x-python",
   "name": "python",
   "nbconvert_exporter": "python",
   "pygments_lexer": "ipython3",
   "version": "3.11.13"
  }
 },
 "nbformat": 4,
 "nbformat_minor": 5
}
